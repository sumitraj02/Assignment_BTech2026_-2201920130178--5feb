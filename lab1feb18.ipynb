{
  "nbformat": 4,
  "nbformat_minor": 0,
  "metadata": {
    "colab": {
      "provenance": [],
      "toc_visible": true,
      "authorship_tag": "ABX9TyO3zNyxxRYcwvYPYXgBvRJ9",
      "include_colab_link": true
    },
    "kernelspec": {
      "name": "python3",
      "display_name": "Python 3"
    },
    "language_info": {
      "name": "python"
    }
  },
  "cells": [
    {
      "cell_type": "markdown",
      "metadata": {
        "id": "view-in-github",
        "colab_type": "text"
      },
      "source": [
        "<a href=\"https://colab.research.google.com/github/sumitraj02/Assignment_BTech2026_-2201920130178--5feb/blob/main/lab1feb18.ipynb\" target=\"_parent\"><img src=\"https://colab.research.google.com/assets/colab-badge.svg\" alt=\"Open In Colab\"/></a>"
      ]
    },
    {
      "cell_type": "code",
      "source": [
        "import pandas as pd\n",
        "import numpy as np\n",
        "import seaborn as sns\n"
      ],
      "metadata": {
        "id": "xyciSj_2jbKw"
      },
      "execution_count": 1,
      "outputs": []
    },
    {
      "cell_type": "code",
      "source": [
        "df = sns.load_dataset(\"iris\")\n",
        "print(\"Dataset loaded successfully.\")\n",
        "print(df.head())\n",
        "print(\"Dataset shape (row,columns): \",df.shape)"
      ],
      "metadata": {
        "colab": {
          "base_uri": "https://localhost:8080/",
          "height": 0
        },
        "id": "P3mQ1xqlkzy-",
        "outputId": "54f10117-af5f-415f-c99d-b410412b554a"
      },
      "execution_count": 3,
      "outputs": [
        {
          "output_type": "stream",
          "name": "stdout",
          "text": [
            "Dataset loaded successfully.\n",
            "   sepal_length  sepal_width  petal_length  petal_width species\n",
            "0           5.1          3.5           1.4          0.2  setosa\n",
            "1           4.9          3.0           1.4          0.2  setosa\n",
            "2           4.7          3.2           1.3          0.2  setosa\n",
            "3           4.6          3.1           1.5          0.2  setosa\n",
            "4           5.0          3.6           1.4          0.2  setosa\n",
            "Dataset shape (row,columns):  (150, 5)\n"
          ]
        }
      ]
    },
    {
      "cell_type": "code",
      "source": [
        "df.to_csv(\"iris_data.csv\",index=False)\n",
        "df.to_csv(\"iris_data.txt\",index=False)\n",
        "df.to_csv(\"iris_data.xls\",index=False)\n",
        "print(\"Dataset is saved as iris.csv file\")\n",
        "print(\"Dataset is saved as iris.txtfile\")\n",
        "print(\"Dataset is saved as iris.xls file\")"
      ],
      "metadata": {
        "colab": {
          "base_uri": "https://localhost:8080/",
          "height": 0
        },
        "id": "1cDgQ730lKTE",
        "outputId": "fffafd66-13d9-4551-98b2-32b8ac2ad1e5"
      },
      "execution_count": 4,
      "outputs": [
        {
          "output_type": "stream",
          "name": "stdout",
          "text": [
            "Dataset is saved as iris.csv file\n",
            "Dataset is saved as iris.txtfile\n",
            "Dataset is saved as iris.xls file\n"
          ]
        }
      ]
    },
    {
      "cell_type": "code",
      "source": [
        "import pandas as pd\n",
        "file_path=\"/content/iris_data.csv\"\n",
        "df=pd.read_csv(file_path)\n",
        "print(\"CSV  file imported successfully!\")\n",
        "print(df.head(10))"
      ],
      "metadata": {
        "colab": {
          "base_uri": "https://localhost:8080/",
          "height": 0
        },
        "id": "gKayam-InVdN",
        "outputId": "730239c4-698e-4e2a-c287-0c7ec2a6fc72"
      },
      "execution_count": 5,
      "outputs": [
        {
          "output_type": "stream",
          "name": "stdout",
          "text": [
            "CSV  file imported successfully!\n",
            "   sepal_length  sepal_width  petal_length  petal_width species\n",
            "0           5.1          3.5           1.4          0.2  setosa\n",
            "1           4.9          3.0           1.4          0.2  setosa\n",
            "2           4.7          3.2           1.3          0.2  setosa\n",
            "3           4.6          3.1           1.5          0.2  setosa\n",
            "4           5.0          3.6           1.4          0.2  setosa\n",
            "5           5.4          3.9           1.7          0.4  setosa\n",
            "6           4.6          3.4           1.4          0.3  setosa\n",
            "7           5.0          3.4           1.5          0.2  setosa\n",
            "8           4.4          2.9           1.4          0.2  setosa\n",
            "9           4.9          3.1           1.5          0.1  setosa\n"
          ]
        }
      ]
    },
    {
      "cell_type": "code",
      "source": [
        "print(\" let's  perform numerical operation on a column from this dataset.\")\n",
        "numeric_columns=df.select_dtypes(include=[np.number]).columns.tolist()\n",
        "print(\"Available numeric columns: \",numeric_columns)"
      ],
      "metadata": {
        "colab": {
          "base_uri": "https://localhost:8080/",
          "height": 0
        },
        "id": "BbT-EU8Uozlw",
        "outputId": "5c92206a-f890-44e2-cd44-d1d9e0f9ac5b"
      },
      "execution_count": 6,
      "outputs": [
        {
          "output_type": "stream",
          "name": "stdout",
          "text": [
            " let's  perform numerical operation on a column from this dataset.\n",
            "Available numeric columns:  ['sepal_length', 'sepal_width', 'petal_length', 'petal_width']\n"
          ]
        }
      ]
    },
    {
      "cell_type": "code",
      "source": [
        "columns_name=input(\"Enter the columns name you want to analyse: \")\n",
        "data=df[columns_name].values"
      ],
      "metadata": {
        "colab": {
          "base_uri": "https://localhost:8080/",
          "height": 0
        },
        "id": "Y1tdqIi8qmC2",
        "outputId": "cc7be19e-9924-4bfe-b294-a035c94a1207"
      },
      "execution_count": 8,
      "outputs": [
        {
          "name": "stdout",
          "output_type": "stream",
          "text": [
            "Enter the columns name you want to analyse: petal_length\n"
          ]
        }
      ]
    },
    {
      "cell_type": "code",
      "source": [
        "print(\" Numerical operation results :\")\n",
        "print(f\"Maximum: {np.max(data)}\")\n",
        "print(f\"Minimum: {np.min(data)}\")\n",
        "print(f\"sum: {np.sum(data)}\")\n",
        "print(f\"Average: {np.mean(data)}\")\n",
        "print(f\"Square root of first 5 element : {np.sqrt(data[-5:])}\")\n",
        "print(f\"Rounded values : {np.round(data[:5])}\")"
      ],
      "metadata": {
        "colab": {
          "base_uri": "https://localhost:8080/"
        },
        "id": "gUYWgqtdq2c2",
        "outputId": "8e086610-d235-4412-b3e6-e9cd29f6e465"
      },
      "execution_count": null,
      "outputs": [
        {
          "output_type": "stream",
          "name": "stdout",
          "text": [
            " Numerical operation results :\n",
            "Maximum: 7.9\n",
            "Minimum: 4.3\n",
            "sum: 876.5\n",
            "Average: 5.843333333333334\n",
            "Square root of first 5 element : [2.58843582 2.50998008 2.54950976 2.48997992 2.42899156]\n",
            "Rounded values : [5. 5. 5. 5. 5.]\n"
          ]
        }
      ]
    },
    {
      "cell_type": "code",
      "source": [
        "import pandas as pd\n",
        "import numpy as np\n",
        "import seaborn as sns\n",
        "\n",
        "df = sns.load_dataset(\"titanic\")\n",
        "\n",
        "print(\"Dataset loaded successfully.\")\n",
        "print(df.head())\n",
        "print(\"Dataset shape (row,columns): \",df.shape)"
      ],
      "metadata": {
        "colab": {
          "base_uri": "https://localhost:8080/",
          "height": 0
        },
        "id": "d2vjIwRzryJf",
        "outputId": "3ae01d64-1492-49bb-e2cf-0128d38cab62"
      },
      "execution_count": 9,
      "outputs": [
        {
          "output_type": "stream",
          "name": "stdout",
          "text": [
            "Dataset loaded successfully.\n",
            "   survived  pclass     sex   age  sibsp  parch     fare embarked  class  \\\n",
            "0         0       3    male  22.0      1      0   7.2500        S  Third   \n",
            "1         1       1  female  38.0      1      0  71.2833        C  First   \n",
            "2         1       3  female  26.0      0      0   7.9250        S  Third   \n",
            "3         1       1  female  35.0      1      0  53.1000        S  First   \n",
            "4         0       3    male  35.0      0      0   8.0500        S  Third   \n",
            "\n",
            "     who  adult_male deck  embark_town alive  alone  \n",
            "0    man        True  NaN  Southampton    no  False  \n",
            "1  woman       False    C    Cherbourg   yes  False  \n",
            "2  woman       False  NaN  Southampton   yes   True  \n",
            "3  woman       False    C  Southampton   yes  False  \n",
            "4    man        True  NaN  Southampton    no   True  \n",
            "Dataset shape (row,columns):  (891, 15)\n"
          ]
        }
      ]
    },
    {
      "cell_type": "code",
      "source": [
        "print(\" missing values indataset; \")\n",
        "print(df.isnull().sum())"
      ],
      "metadata": {
        "colab": {
          "base_uri": "https://localhost:8080/",
          "height": 0
        },
        "id": "hTgoUQJ_tDYQ",
        "outputId": "316d8594-58e4-4b9c-a341-02d4edf8ee63"
      },
      "execution_count": 10,
      "outputs": [
        {
          "output_type": "stream",
          "name": "stdout",
          "text": [
            " missing values indataset; \n",
            "survived         0\n",
            "pclass           0\n",
            "sex              0\n",
            "age            177\n",
            "sibsp            0\n",
            "parch            0\n",
            "fare             0\n",
            "embarked         2\n",
            "class            0\n",
            "who              0\n",
            "adult_male       0\n",
            "deck           688\n",
            "embark_town      2\n",
            "alive            0\n",
            "alone            0\n",
            "dtype: int64\n"
          ]
        }
      ]
    },
    {
      "cell_type": "code",
      "source": [
        "df_cleaned=df.dropna()\n",
        "\n",
        "print(\"After remving missing values :\")\n",
        "print(df_cleaned.isnull().sum())"
      ],
      "metadata": {
        "colab": {
          "base_uri": "https://localhost:8080/",
          "height": 0
        },
        "id": "DNQUw4Yiur4R",
        "outputId": "0befb5d9-c7e2-4200-99a1-fdf6dee0847e"
      },
      "execution_count": 11,
      "outputs": [
        {
          "output_type": "stream",
          "name": "stdout",
          "text": [
            "After remving missing values :\n",
            "survived       0\n",
            "pclass         0\n",
            "sex            0\n",
            "age            0\n",
            "sibsp          0\n",
            "parch          0\n",
            "fare           0\n",
            "embarked       0\n",
            "class          0\n",
            "who            0\n",
            "adult_male     0\n",
            "deck           0\n",
            "embark_town    0\n",
            "alive          0\n",
            "alone          0\n",
            "dtype: int64\n"
          ]
        }
      ]
    },
    {
      "cell_type": "code",
      "source": [
        "df['age']=df['age'].fillna(df['age'].mean())\n",
        "df['embark_town']=df['embark_town'].fillna(df['embark_town'].mode()[0])\n",
        "#printf(\"After filling missing values: \")\n",
        "print(df.isnull().sum())"
      ],
      "metadata": {
        "colab": {
          "base_uri": "https://localhost:8080/",
          "height": 0
        },
        "id": "Jtw87ZASvhn3",
        "outputId": "ca086d2f-1dae-4d4f-bf7f-d94bc5786833"
      },
      "execution_count": 12,
      "outputs": [
        {
          "output_type": "stream",
          "name": "stdout",
          "text": [
            "survived         0\n",
            "pclass           0\n",
            "sex              0\n",
            "age              0\n",
            "sibsp            0\n",
            "parch            0\n",
            "fare             0\n",
            "embarked         2\n",
            "class            0\n",
            "who              0\n",
            "adult_male       0\n",
            "deck           688\n",
            "embark_town      0\n",
            "alive            0\n",
            "alone            0\n",
            "dtype: int64\n"
          ]
        }
      ]
    },
    {
      "cell_type": "code",
      "source": [
        "from sklearn.preprocessing import MinMaxScaler  # Correct spelling\n",
        "\n",
        "nums_cols = ['age', 'fare']  # Make sure column names are in a list\n",
        "\n",
        "scaler = MinMaxScaler()\n",
        "df[nums_cols] = scaler.fit_transform(df[nums_cols])\n",
        "\n",
        "print(\"After minmax normaliztion:\")\n",
        "print(df.head())\n"
      ],
      "metadata": {
        "colab": {
          "base_uri": "https://localhost:8080/",
          "height": 0
        },
        "id": "Vici2yGvxJZQ",
        "outputId": "921978b9-433e-4f91-b5d5-cd92dc804878"
      },
      "execution_count": 13,
      "outputs": [
        {
          "output_type": "stream",
          "name": "stdout",
          "text": [
            "After minmax normaliztion:\n",
            "   survived  pclass     sex       age  sibsp  parch      fare embarked  class  \\\n",
            "0         0       3    male  0.271174      1      0  0.014151        S  Third   \n",
            "1         1       1  female  0.472229      1      0  0.139136        C  First   \n",
            "2         1       3  female  0.321438      0      0  0.015469        S  Third   \n",
            "3         1       1  female  0.434531      1      0  0.103644        S  First   \n",
            "4         0       3    male  0.434531      0      0  0.015713        S  Third   \n",
            "\n",
            "     who  adult_male deck  embark_town alive  alone  \n",
            "0    man        True  NaN  Southampton    no  False  \n",
            "1  woman       False    C    Cherbourg   yes  False  \n",
            "2  woman       False  NaN  Southampton   yes   True  \n",
            "3  woman       False    C  Southampton   yes  False  \n",
            "4    man        True  NaN  Southampton    no   True  \n"
          ]
        }
      ]
    },
    {
      "cell_type": "code",
      "source": [
        "mean_age=df['age'].mean()\n",
        "print(f\"Mean age: { mean_age}\")\n",
        "\n",
        "median_age=df['age'].median()\n",
        "print(f\"Median age: {median_age}\")\n",
        "\n",
        "mode_age=df['age'].mode()\n",
        "print(f\"Mode age: {mode_age}\")\n",
        "\n",
        "std_age=df['age'].std()\n",
        "print(f\" std age:{ std_age}\")"
      ],
      "metadata": {
        "colab": {
          "base_uri": "https://localhost:8080/",
          "height": 0
        },
        "id": "sGjxfn9WyP-z",
        "outputId": "ef726501-da4d-4498-f426-48f634b650ff"
      },
      "execution_count": 14,
      "outputs": [
        {
          "output_type": "stream",
          "name": "stdout",
          "text": [
            "Mean age: 0.3679205534940792\n",
            "Median age: 0.36792055349407915\n",
            "Mode age: 0    0.367921\n",
            "Name: age, dtype: float64\n",
            " std age:0.16338295081682433\n"
          ]
        }
      ]
    }
  ]
}